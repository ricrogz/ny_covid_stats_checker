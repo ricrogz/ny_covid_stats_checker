{
 "cells": [
  {
   "cell_type": "code",
   "execution_count": null,
   "metadata": {},
   "outputs": [],
   "source": [
    "import json\n",
    "from datetime import date\n",
    "\n",
    "import pandas as pd\n",
    "\n",
    "pd.options.display.float_format = '{:,.3f}'.format\n",
    "pd.options.display.max_rows = None\n",
    "pd.options.display.width = None\n",
    "\n",
    "import matplotlib.pyplot as plt\n",
    "import matplotlib.dates as mdates\n",
    "from matplotlib.ticker import FuncFormatter\n",
    "%matplotlib inline\n",
    "\n",
    "from nys_soda import get_data\n",
    "\n",
    "CFG_FILE = 'config.json'\n",
    "\n",
    "origin_date = date(year=1970, month=1, day=1)\n",
    "def fix_plt_date(x, pos):\n",
    "    actual_date = origin_date + mdates.num2timedelta(x)\n",
    "    return actual_date.strftime('%Y-%m-%d')\n",
    "\n",
    "with open(CFG_FILE) as f:\n",
    "    cfg = json.load(f)\n",
    "\n",
    "data = get_data(cfg['SOCRATA_TOKEN'])"
   ]
  },
  {
   "cell_type": "code",
   "execution_count": null,
   "metadata": {},
   "outputs": [],
   "source": [
    "plot_columns = (['new_cases', 'new_cases_ave'], ['ratio', 'ratio_ave'])\n",
    "plot_legends = (['New Cases', '7 day average'], ['Positive Test Ratio', '7 day average'])\n",
    "rolling_period = 7\n",
    "\n",
    "for (src, dst) in plot_columns:\n",
    "    data[dst] = data[src].rolling(rolling_period).mean()\n",
    "\n",
    "data[-15:]\n"
   ]
  },
  {
   "cell_type": "code",
   "execution_count": null,
   "metadata": {
    "scrolled": false
   },
   "outputs": [],
   "source": [
    "fig, axes = plt.subplots(ncols=2, figsize=(15, 8))\n",
    "\n",
    "for axis, column, legend in zip(axes, plot_columns, plot_legends):\n",
    "    data[-30:][column].plot(ax=axis, rot=-60)\n",
    "    axis.xaxis.set_major_locator(mdates.DayLocator())\n",
    "    axis.xaxis.set_major_formatter(FuncFormatter(fix_plt_date))\n",
    "    axis.tick_params(axis='x', which='minor', bottom=False)\n",
    "    axis.grid(linestyle=':', linewidth='0.5')\n",
    "    axis.legend(legend)\n",
    "        "
   ]
  },
  {
   "cell_type": "code",
   "execution_count": null,
   "metadata": {},
   "outputs": [],
   "source": [
    "fig, axes = plt.subplots(ncols=2, figsize=(15, 8))\n",
    "\n",
    "for axis, column, legend in zip(axes, plot_columns, plot_legends):\n",
    "    data[column].plot(ax=axis, rot=-60)\n",
    "    axis.xaxis.set_major_locator(mdates.WeekdayLocator())\n",
    "    axis.xaxis.set_major_formatter(FuncFormatter(fix_plt_date))\n",
    "    axis.tick_params(axis='x', which='minor', bottom=False)\n",
    "    axis.grid(linestyle=':', linewidth='0.5')\n",
    "    axis.legend(legend)"
   ]
  }
 ],
 "metadata": {
  "kernelspec": {
   "display_name": "Python 3",
   "language": "python",
   "name": "python3"
  },
  "language_info": {
   "codemirror_mode": {
    "name": "ipython",
    "version": 3
   },
   "file_extension": ".py",
   "mimetype": "text/x-python",
   "name": "python",
   "nbconvert_exporter": "python",
   "pygments_lexer": "ipython3",
   "version": "3.8.3"
  }
 },
 "nbformat": 4,
 "nbformat_minor": 4
}
